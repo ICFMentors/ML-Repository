{
 "cells": [
  {
   "cell_type": "code",
   "execution_count": null,
   "id": "f3ddbbca",
   "metadata": {},
   "outputs": [],
   "source": [
    "pip install ucimlrepo"
   ]
  },
  {
   "cell_type": "code",
   "execution_count": null,
   "id": "5a34a0f9",
   "metadata": {},
   "outputs": [],
   "source": [
    "from ucimlrepo import fetch_ucirepo \n",
    "  \n",
    "# fetch dataset \n",
    "car_evaluation = fetch_ucirepo(id=19) \n",
    "  \n",
    "# data (as pandas dataframes) \n",
    "X = car_evaluation.data.features \n",
    "y = car_evaluation.data.targets \n",
    "  \n",
    "# metadata \n",
    "print(car_evaluation.metadata) \n",
    "  \n",
    "# variable information \n",
    "print(car_evaluation.variables) \n"
   ]
  },
  {
   "cell_type": "code",
   "execution_count": null,
   "id": "f57ccbaf",
   "metadata": {},
   "outputs": [],
   "source": []
  },
  {
   "cell_type": "code",
   "execution_count": null,
   "id": "2ee3f655",
   "metadata": {},
   "outputs": [],
   "source": [
    "import pandas as pd"
   ]
  },
  {
   "cell_type": "code",
   "execution_count": null,
   "id": "2a013419",
   "metadata": {},
   "outputs": [],
   "source": [
    "X.head()"
   ]
  },
  {
   "cell_type": "code",
   "execution_count": null,
   "id": "b73531d2",
   "metadata": {},
   "outputs": [],
   "source": [
    "from sklearn.preprocessing import OneHotEncoder\n",
    "from sklearn.compose import make_column_transformer\n",
    "ohe = OneHotEncoder(sparse=False)"
   ]
  },
  {
   "cell_type": "code",
   "execution_count": null,
   "id": "580aa3c2",
   "metadata": {},
   "outputs": [],
   "source": [
    "column_trans = make_column_transformer(\n",
    "    (OneHotEncoder(), ['buying','maint', 'doors','persons','lug_boot','safety']),\n",
    "    sparse_threshold=0\n",
    ")"
   ]
  },
  {
   "cell_type": "code",
   "execution_count": null,
   "id": "c35977fc",
   "metadata": {},
   "outputs": [],
   "source": [
    "X1 = column_trans.fit_transform(X)"
   ]
  },
  {
   "cell_type": "code",
   "execution_count": null,
   "id": "7aef2add",
   "metadata": {},
   "outputs": [],
   "source": [
    "pd.DataFrame(X1).head()"
   ]
  },
  {
   "cell_type": "code",
   "execution_count": null,
   "id": "3972b718",
   "metadata": {},
   "outputs": [],
   "source": [
    "y.replace(to_replace=['unacc', 'acc','good','vgood'], value=[1, 2, 3, 4], inplace=True)"
   ]
  },
  {
   "cell_type": "code",
   "execution_count": null,
   "id": "d94f4b2b",
   "metadata": {},
   "outputs": [],
   "source": [
    "y['class'].head()"
   ]
  },
  {
   "cell_type": "code",
   "execution_count": null,
   "id": "44116556",
   "metadata": {},
   "outputs": [],
   "source": [
    "from sklearn.pipeline import make_pipeline\n",
    "from sklearn.linear_model import LogisticRegression\n",
    "from sklearn.model_selection import cross_val_score"
   ]
  },
  {
   "cell_type": "code",
   "execution_count": null,
   "id": "d0c0f67b",
   "metadata": {},
   "outputs": [],
   "source": [
    "logreg = LogisticRegression()"
   ]
  },
  {
   "cell_type": "code",
   "execution_count": null,
   "id": "cd6bcfe8",
   "metadata": {},
   "outputs": [],
   "source": [
    "logistic_regression_pipeline = make_pipeline(column_trans, logreg)"
   ]
  },
  {
   "cell_type": "code",
   "execution_count": null,
   "id": "424ec193",
   "metadata": {},
   "outputs": [],
   "source": [
    "X.head()"
   ]
  },
  {
   "cell_type": "code",
   "execution_count": null,
   "id": "f7ef1167",
   "metadata": {},
   "outputs": [],
   "source": [
    "y.head()"
   ]
  },
  {
   "cell_type": "code",
   "execution_count": null,
   "id": "c79de1bc",
   "metadata": {},
   "outputs": [],
   "source": [
    "cross_val_score(logistic_regression_pipeline, X, y, cv=10, scoring='accuracy').mean()"
   ]
  },
  {
   "cell_type": "code",
   "execution_count": null,
   "id": "4844b731",
   "metadata": {},
   "outputs": [],
   "source": [
    "# try K=1 through K=25 and record testing accuracy\n",
    "cv_range = list(range(4, 25))\n",
    "scores = []\n",
    "for i in cv_range:\n",
    "    scores.append(cross_val_score(logistic_regression_pipeline, X, y, cv=i, scoring='accuracy').mean())"
   ]
  },
  {
   "cell_type": "code",
   "execution_count": null,
   "id": "450a564b",
   "metadata": {},
   "outputs": [],
   "source": []
  },
  {
   "cell_type": "code",
   "execution_count": null,
   "id": "6c78c6aa",
   "metadata": {},
   "outputs": [],
   "source": [
    "# import Matplotlib (scientific plotting library)\n",
    "import matplotlib.pyplot as plt\n",
    "\n",
    "# allow plots to appear within the notebook\n",
    "%matplotlib inline\n",
    "\n",
    "# plot the relationship between K and testing accuracy\n",
    "plt.plot(cv_range, scores)\n",
    "plt.xlabel('cv_range')\n",
    "plt.ylabel('scores')"
   ]
  },
  {
   "cell_type": "code",
   "execution_count": null,
   "id": "4a3bfb72",
   "metadata": {},
   "outputs": [],
   "source": [
    "# try K=1 through K=25 and record testing accuracy\n",
    "k_range = list(range(1, 26))\n",
    "scores = []\n",
    "from sklearn.neighbors import KNeighborsClassifier\n",
    "for k in k_range:\n",
    "    knn = KNeighborsClassifier(n_neighbors=k)\n",
    "    knn_pipeline = make_pipeline(column_trans, knn)\n",
    "    scores.append(cross_val_score(knn_pipeline, X, y, cv=10, scoring='accuracy').mean())"
   ]
  },
  {
   "cell_type": "code",
   "execution_count": null,
   "id": "cc7d2afc",
   "metadata": {
    "scrolled": true
   },
   "outputs": [],
   "source": [
    "plt.plot(k_range, scores)\n",
    "plt.xlabel('k_range')\n",
    "plt.ylabel('scores')"
   ]
  },
  {
   "cell_type": "code",
   "execution_count": null,
   "id": "7622fcb8",
   "metadata": {},
   "outputs": [],
   "source": [
    "\n",
    "pip install pydot onnx onnxruntime skl2onnx onnx-tool"
   ]
  },
  {
   "cell_type": "code",
   "execution_count": null,
   "id": "ebf49b7c",
   "metadata": {},
   "outputs": [],
   "source": [
    "import pprint \n",
    "from numpy.testing import assert_almost_equal\n",
    "import onnx\n",
    "from onnx.tools.net_drawer import GetPydotGraph, GetOpNodeProducer \n",
    "import onnxruntime as rt\n",
    "import skl2onnx\n",
    "from skl2onnx import convert_sklearn\n",
    "from skl2onnx.common.data_types import FloatTensorType, StringTensorType\n",
    "from skl2onnx.common.data_types import Int64TensorType"
   ]
  },
  {
   "cell_type": "code",
   "execution_count": null,
   "id": "279a2eeb",
   "metadata": {},
   "outputs": [],
   "source": [
    "def convert_dataframe_schema(df, drop=None):\n",
    "    inputs = []\n",
    "    for k, v in zip(df.columns, df.dtypes):\n",
    "        if drop is not None and k in drop:\n",
    "            continue\n",
    "        if v == \"int64\":\n",
    "            t = Int64TensorType([None, 1])\n",
    "        elif v == \"float64\":\n",
    "            t = FloatTensorType([None, 1])\n",
    "        else:\n",
    "            t = StringTensorType([None, 1])\n",
    "        inputs.append((k, t))\n",
    "    return inputs\n",
    "\n",
    "\n",
    "initial_inputs = convert_dataframe_schema(X)\n",
    "\n",
    "pprint.pprint(initial_inputs)"
   ]
  },
  {
   "cell_type": "code",
   "execution_count": null,
   "id": "727d8bb8",
   "metadata": {},
   "outputs": [],
   "source": [
    "#Convert the pipeline to ONNX\n",
    "try:\n",
    "    model_onnx = convert_sklearn(\n",
    "        logistic_regression_pipeline, \"logistic_regression_pipeline\", initial_inputs\n",
    "    )\n",
    "    # And save.\n",
    "    with open(\"pipeline_car_eval.onnx\", \"wb\") as f:\n",
    "        f.write(model_onnx.SerializeToString())\n",
    "except Exception as e:\n",
    "    print(e)"
   ]
  }
 ],
 "metadata": {
  "kernelspec": {
   "display_name": "Python 3 (ipykernel)",
   "language": "python",
   "name": "python3"
  },
  "language_info": {
   "codemirror_mode": {
    "name": "ipython",
    "version": 3
   },
   "file_extension": ".py",
   "mimetype": "text/x-python",
   "name": "python",
   "nbconvert_exporter": "python",
   "pygments_lexer": "ipython3",
   "version": "3.10.13"
  }
 },
 "nbformat": 4,
 "nbformat_minor": 5
}
