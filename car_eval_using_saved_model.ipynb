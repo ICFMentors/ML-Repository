{
 "cells": [
  {
   "cell_type": "markdown",
   "metadata": {},
   "source": [
    "## Classification Model for Car Evaluation"
   ]
  },
  {
   "cell_type": "code",
   "execution_count": 6,
   "metadata": {},
   "outputs": [],
   "source": [
    "# conventional way to import pandas\n",
    "import pandas as pd\n",
    "import numpy as np"
   ]
  },
  {
   "cell_type": "code",
   "execution_count": 7,
   "metadata": {},
   "outputs": [],
   "source": [
    "import pprint\n",
    "from numpy.testing import assert_almost_equal\n",
    "import onnx\n",
    "from onnx.tools.net_drawer import GetPydotGraph, GetOpNodeProducer\n",
    "import onnxruntime as rt\n",
    "import skl2onnx\n",
    "from skl2onnx import convert_sklearn\n",
    "from skl2onnx.common.data_types import FloatTensorType, StringTensorType\n",
    "from skl2onnx.common.data_types import Int64TensorType"
   ]
  },
  {
   "cell_type": "code",
   "execution_count": 9,
   "metadata": {},
   "outputs": [
    {
     "name": "stdout",
     "output_type": "stream",
     "text": [
      "{'buying': array([['vhigh']], dtype=object), 'maint': array([['vhigh']], dtype=object), 'doors': array([['2']], dtype=object), 'persons': array([['2']], dtype=object), 'lug_boot': array([['small']], dtype=object), 'safety': array([['low']], dtype=object)}\n"
     ]
    }
   ],
   "source": [
    "car_eval_features = [['vhigh', 'vhigh', '2', '2', 'small', 'low']]\n",
    "input_df = pd.DataFrame(car_eval_features, columns=['buying', 'maint', 'doors', 'persons', 'lug_boot', 'safety'])\n",
    "inputs = {c: input_df[c].values for c in input_df.columns}\n",
    "for k in inputs:\n",
    "    inputs[k] = inputs[k].reshape((inputs[k].shape[0], 1))\n",
    "print(inputs)"
   ]
  },
  {
   "cell_type": "code",
   "execution_count": 10,
   "metadata": {},
   "outputs": [
    {
     "name": "stdout",
     "output_type": "stream",
     "text": [
      "['unacc']\n"
     ]
    }
   ],
   "source": [
    " # setup runtime - load the persisted ONNX model\n",
    "sess = rt.InferenceSession(\"pipeline_car_eval_lr.onnx\")\n",
    "\n",
    "outputs = sess.run(None,inputs)\n",
    "car_eval_class = outputs[0]\n",
    "#probabilities = outputs[1]\n",
    "#confidence_class = car_eval_class[0]\n",
    "print(car_eval_class)\n"
   ]
  },
  {
   "cell_type": "code",
   "execution_count": 11,
   "metadata": {},
   "outputs": [],
   "source": [
    "car_eval_features = [['med', 'low', '5more', '4', 'big', 'med']]\n",
    "input_df = pd.DataFrame(car_eval_features, columns=['buying', 'maint', 'doors', 'persons', 'lug_boot', 'safety'])\n",
    "inputs = {c: input_df[c].values for c in input_df.columns}\n",
    "for k in inputs:\n",
    "    inputs[k] = inputs[k].reshape((inputs[k].shape[0], 1))"
   ]
  },
  {
   "cell_type": "code",
   "execution_count": 12,
   "metadata": {},
   "outputs": [
    {
     "name": "stdout",
     "output_type": "stream",
     "text": [
      "['acc']\n"
     ]
    }
   ],
   "source": [
    "outputs = sess.run(None,inputs)\n",
    "car_eval_class = outputs[0]\n",
    "#probabilities = outputs[1]\n",
    "#confidence_class = car_eval_class[0]\n",
    "print(car_eval_class)"
   ]
  },
  {
   "cell_type": "code",
   "execution_count": null,
   "metadata": {},
   "outputs": [],
   "source": []
  }
 ],
 "metadata": {
  "kernelspec": {
   "display_name": "Python 3 (ipykernel)",
   "language": "python",
   "name": "python3"
  },
  "language_info": {
   "codemirror_mode": {
    "name": "ipython",
    "version": 3
   },
   "file_extension": ".py",
   "mimetype": "text/x-python",
   "name": "python",
   "nbconvert_exporter": "python",
   "pygments_lexer": "ipython3",
   "version": "3.9.16"
  }
 },
 "nbformat": 4,
 "nbformat_minor": 4
}
