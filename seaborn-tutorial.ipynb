{
 "cells": [
  {
   "cell_type": "code",
   "execution_count": null,
   "id": "45a10f72-bee3-4b36-976b-84614563e38e",
   "metadata": {},
   "outputs": [],
   "source": [
    "import seaborn as sns\n",
    "from matplotlib import pyplot as plt\n",
    "import numpy as np"
   ]
  },
  {
   "cell_type": "code",
   "execution_count": null,
   "id": "be1456e4-c668-4255-97f1-8e9fe0945878",
   "metadata": {},
   "outputs": [],
   "source": [
    "diamonds = sns.load_dataset('diamonds')\n",
    "\n",
    "diamonds.shape"
   ]
  },
  {
   "cell_type": "code",
   "execution_count": null,
   "id": "27fe12d7-a0c2-408a-8090-29573812f5b3",
   "metadata": {},
   "outputs": [],
   "source": [
    "diamonds.head()"
   ]
  },
  {
   "cell_type": "markdown",
   "id": "4ecafbd7-6373-462b-adde-f427012adcf2",
   "metadata": {},
   "source": [
    "### Regular Plot"
   ]
  },
  {
   "cell_type": "code",
   "execution_count": null,
   "id": "ce232c53-2b9b-410e-9178-cf6bb0fcabeb",
   "metadata": {},
   "outputs": [],
   "source": [
    "sns.regplot(diamonds.carat, diamonds.price);"
   ]
  },
  {
   "cell_type": "code",
   "execution_count": null,
   "id": "46d09957-9e22-4546-9fdb-7461eb64d23e",
   "metadata": {},
   "outputs": [],
   "source": [
    "sns.regplot(x='carat', y='price', data=diamonds);"
   ]
  },
  {
   "cell_type": "code",
   "execution_count": null,
   "id": "5e3c9041-bfa4-4dc1-b7fb-75496221e4b2",
   "metadata": {},
   "outputs": [],
   "source": [
    "sns.regplot(x='carat', y='price', data=diamonds, fit_reg=False);"
   ]
  },
  {
   "cell_type": "markdown",
   "id": "a207c0b1-2049-45df-89fc-85647dca92cc",
   "metadata": {},
   "source": [
    "### Histogram Plot"
   ]
  },
  {
   "cell_type": "code",
   "execution_count": null,
   "id": "9d6c04be-1969-46c7-8c68-c9cef5b49e76",
   "metadata": {},
   "outputs": [],
   "source": [
    "penguins = sns.load_dataset('penguins')"
   ]
  },
  {
   "cell_type": "code",
   "execution_count": null,
   "id": "a7f68bd8-e604-45f8-b00d-152f9c20f4c7",
   "metadata": {},
   "outputs": [],
   "source": [
    "penguins.head()"
   ]
  },
  {
   "cell_type": "code",
   "execution_count": null,
   "id": "841190fb-84dd-45e9-9bfd-150278c4a769",
   "metadata": {},
   "outputs": [],
   "source": [
    "sns.histplot(penguins.culmen_length_mm);"
   ]
  },
  {
   "cell_type": "code",
   "execution_count": null,
   "id": "677406e3-28e0-4b98-b2ad-026946afe3ba",
   "metadata": {},
   "outputs": [],
   "source": [
    "sns.set_style('darkgrid')"
   ]
  },
  {
   "cell_type": "code",
   "execution_count": null,
   "id": "c633b6dd-12e4-476e-b1b0-1627a6f9b4da",
   "metadata": {},
   "outputs": [],
   "source": [
    "sns.histplot(penguins.culmen_length_mm);"
   ]
  },
  {
   "cell_type": "code",
   "execution_count": null,
   "id": "6e75e597-ffb0-444a-971d-4ceb518a1d66",
   "metadata": {},
   "outputs": [],
   "source": [
    "sns.histplot(y = 'culmen_length_mm', data=penguins);"
   ]
  },
  {
   "cell_type": "code",
   "execution_count": null,
   "id": "00b2ebba-936f-4b37-83f0-b1f17d87486e",
   "metadata": {},
   "outputs": [],
   "source": [
    "#Histogram on X axis\n"
   ]
  },
  {
   "cell_type": "code",
   "execution_count": null,
   "id": "158ad4ac-8b36-407f-ad58-cfb516fccca4",
   "metadata": {},
   "outputs": [],
   "source": [
    "sns.histplot(x='culmen_length_mm', data=penguins, bins=20); "
   ]
  },
  {
   "cell_type": "code",
   "execution_count": null,
   "id": "a1e76278-9ec7-4f58-896f-97aab0b6267d",
   "metadata": {},
   "outputs": [],
   "source": [
    "#Using \"hue\" parameter for categorical variables\n",
    "sns.histplot(x='culmen_length_mm', data=penguins, hue='species');"
   ]
  },
  {
   "cell_type": "markdown",
   "id": "97c0fe7a-1d0a-4c1f-8cea-6824d9677087",
   "metadata": {},
   "source": [
    "### Pair plot"
   ]
  },
  {
   "cell_type": "code",
   "execution_count": null,
   "id": "8e6a21db-5e68-4a3e-bf1d-478e063609c4",
   "metadata": {},
   "outputs": [],
   "source": [
    "tips = sns.load_dataset('tips')"
   ]
  },
  {
   "cell_type": "code",
   "execution_count": null,
   "id": "8d4c2655-2bbd-4ddb-b086-cc99f8b4c5a5",
   "metadata": {},
   "outputs": [],
   "source": [
    "#How does tips data look\n"
   ]
  },
  {
   "cell_type": "code",
   "execution_count": null,
   "id": "ce497818-2d6d-4071-8af0-a33b7e082e57",
   "metadata": {},
   "outputs": [],
   "source": [
    "sns.pairplot(tips)"
   ]
  },
  {
   "cell_type": "code",
   "execution_count": null,
   "id": "a6a791e4-4a90-491c-976c-c757bbe94247",
   "metadata": {},
   "outputs": [],
   "source": [
    "sns.pairplot(tips,  plot_kws={'color':'black'})"
   ]
  },
  {
   "cell_type": "code",
   "execution_count": null,
   "id": "bda5893a-ac78-46fb-9dd4-e4ed2245867a",
   "metadata": {},
   "outputs": [],
   "source": [
    "sns.set_style('darkgrid')"
   ]
  },
  {
   "cell_type": "code",
   "execution_count": null,
   "id": "782a9c65-7590-4015-9ee1-c75d6a7dface",
   "metadata": {},
   "outputs": [],
   "source": [
    "#Previous pairwise plot again\n"
   ]
  },
  {
   "cell_type": "code",
   "execution_count": null,
   "id": "23540bdd-b063-493b-b6ae-5eed29d102b0",
   "metadata": {},
   "outputs": [],
   "source": [
    "sns.pairplot(tips, diag_kind='kde');"
   ]
  },
  {
   "cell_type": "code",
   "execution_count": null,
   "id": "45e77d85-31be-464e-8d87-506292445d8d",
   "metadata": {},
   "outputs": [],
   "source": [
    "sns.pairplot(tips, kind='reg');"
   ]
  },
  {
   "cell_type": "code",
   "execution_count": null,
   "id": "600ebb1c-31e5-4477-b23b-a8e826b94192",
   "metadata": {},
   "outputs": [],
   "source": [
    "tips['weekend'] = tips.day.isin(['Sat', 'Sun'])"
   ]
  },
  {
   "cell_type": "code",
   "execution_count": null,
   "id": "b71eeba4-1cf7-4513-b368-73f6265ca465",
   "metadata": {},
   "outputs": [],
   "source": [
    "# Show tips data now\n"
   ]
  },
  {
   "cell_type": "code",
   "execution_count": null,
   "id": "49176bd1-122e-4273-a53e-dd98d4ae2cb0",
   "metadata": {},
   "outputs": [],
   "source": [
    "sns.pairplot(tips, hue='weekend');"
   ]
  },
  {
   "cell_type": "code",
   "execution_count": null,
   "id": "053e391c-f569-4510-90ec-e90df0b80510",
   "metadata": {},
   "outputs": [],
   "source": [
    "sns.pairplot(tips, hue='weekend', vars=['total_bill', 'tip']);"
   ]
  }
 ],
 "metadata": {
  "kernelspec": {
   "display_name": "Python 3 (ipykernel)",
   "language": "python",
   "name": "python3"
  },
  "language_info": {
   "codemirror_mode": {
    "name": "ipython",
    "version": 3
   },
   "file_extension": ".py",
   "mimetype": "text/x-python",
   "name": "python",
   "nbconvert_exporter": "python",
   "pygments_lexer": "ipython3",
   "version": "3.9.16"
  }
 },
 "nbformat": 4,
 "nbformat_minor": 5
}
